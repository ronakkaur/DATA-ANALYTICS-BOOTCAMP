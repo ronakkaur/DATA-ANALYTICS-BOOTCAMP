{
 "cells": [
  {
   "cell_type": "code",
   "execution_count": 1,
   "id": "a3bf30aa-acf5-45f6-9956-8425d02dce8b",
   "metadata": {},
   "outputs": [
    {
     "name": "stdout",
     "output_type": "stream",
     "text": [
      "Enter 10 integers:\n"
     ]
    },
    {
     "name": "stdin",
     "output_type": "stream",
     "text": [
      "Enter number 1:  5\n",
      "Enter number 2:  45\n",
      "Enter number 3:  34\n",
      "Enter number 4:  44\n",
      "Enter number 5:  78\n",
      "Enter number 6:  33\n",
      "Enter number 7:  28\n",
      "Enter number 8:  45\n",
      "Enter number 9:  29\n",
      "Enter number 10:  57\n"
     ]
    },
    {
     "name": "stdout",
     "output_type": "stream",
     "text": [
      "Second largest number is: 57\n"
     ]
    }
   ],
   "source": [
    "#Write a program to take a list of 10 integers as input and print the second largest number using list methods.\n",
    "numbers = []\n",
    "\n",
    "print(\"Enter 10 integers:\")\n",
    "for i in range(10):\n",
    "    num = int(input(f\"Enter number {i+1}: \"))\n",
    "    numbers.append(num)\n",
    "first_max = max(numbers)\n",
    "while first_max in numbers:\n",
    "    numbers.remove(first_max)\n",
    "second_max = max(numbers)\n",
    "print(\"Second largest number is:\", second_max)\n"
   ]
  },
  {
   "cell_type": "code",
   "execution_count": 2,
   "id": "6265afdb-488c-4a3c-a1cb-14b534f86091",
   "metadata": {},
   "outputs": [
    {
     "name": "stdout",
     "output_type": "stream",
     "text": [
      "Enter integers (type DONE to stop):\n"
     ]
    },
    {
     "name": "stdin",
     "output_type": "stream",
     "text": [
      " DONE\n"
     ]
    },
    {
     "name": "stdout",
     "output_type": "stream",
     "text": [
      "Updated list (odd numbers only): []\n"
     ]
    }
   ],
   "source": [
    "#Write a program to remove all even numbers from a list of integers and print the updated list.done\n",
    "numbers = []\n",
    "print(\"Enter integers (type DONE to stop):\")\n",
    "while True:\n",
    "    val = input()\n",
    "    if val == 'DONE':\n",
    "        break\n",
    "    numbers.append(int(val))\n",
    "updated_list = [num for num in numbers if num % 2 != 0]\n",
    "print(\"Updated list (odd numbers only):\", updated_list)\n"
   ]
  },
  {
   "cell_type": "code",
   "execution_count": 4,
   "id": "1bf3ce40-4926-448f-9225-c91c7407e2b5",
   "metadata": {},
   "outputs": [
    {
     "name": "stdout",
     "output_type": "stream",
     "text": [
      "Current Students: ['Alice', 'Bob', 'Charlie', 'David', 'Emma']\n"
     ]
    },
    {
     "name": "stdin",
     "output_type": "stream",
     "text": [
      "Enter the name to remove:  Bob\n"
     ]
    },
    {
     "name": "stdout",
     "output_type": "stream",
     "text": [
      "Bob has been removed from the list.\n",
      "Updated Students List: ['Alice', 'Charlie', 'David', 'Emma']\n"
     ]
    }
   ],
   "source": [
    "#Create a list of student names. Ask the user to enter a name, and remove that name from the list if it exists.\n",
    "students = [\"Alice\", \"Bob\", \"Charlie\", \"David\", \"Emma\"]\n",
    "print(\"Current Students:\", students)\n",
    "name = input(\"Enter the name to remove: \")\n",
    "if name in students:\n",
    "    students.remove(name)\n",
    "    print(f\"{name} has been removed from the list.\")\n",
    "else:\n",
    "    print(f\"{name} is not in the list.\")\n",
    "print(\"Updated Students List:\", students)\n"
   ]
  },
  {
   "cell_type": "code",
   "execution_count": 6,
   "id": "8991c3f6-efb2-4c86-8ce4-75a36916e825",
   "metadata": {},
   "outputs": [
    {
     "name": "stdout",
     "output_type": "stream",
     "text": [
      "Current List: [10, 20, 30, 40, 50, 60]\n"
     ]
    },
    {
     "name": "stdin",
     "output_type": "stream",
     "text": [
      "Enter a number to search and remove:  50\n"
     ]
    },
    {
     "name": "stdout",
     "output_type": "stream",
     "text": [
      "Number found at index 4. Removing it now.\n",
      "Updated List: [10, 20, 30, 40, 60]\n"
     ]
    }
   ],
   "source": [
    "#Create a list of numbers. Ask the user to enter a number. If it exists, print its index and remove it from the list.\n",
    "numbers = [10, 20, 30, 40, 50, 60]\n",
    "print(\"Current List:\", numbers)\n",
    "user_input = int(input(\"Enter a number to search and remove: \"))\n",
    "if user_input in numbers:\n",
    "    index = numbers.index(user_input)\n",
    "    print(f\"Number found at index {index}. Removing it now.\")\n",
    "    numbers.remove(user_input)\n",
    "else:\n",
    "    print(\"Number not found in the list.\")\n",
    "print(\"Updated List:\", numbers)\n"
   ]
  },
  {
   "cell_type": "code",
   "execution_count": 8,
   "id": "4a5de4e3-fd1d-46ff-94b0-2fa6a01f6509",
   "metadata": {},
   "outputs": [
    {
     "name": "stdout",
     "output_type": "stream",
     "text": [
      "Alphabetically sorted list: ['apple', 'banana', 'cherry', 'grape', 'mango']\n"
     ]
    }
   ],
   "source": [
    "#Create a list of 5 strings. Sort the list in alphabetical order using the sort() method.\n",
    "words = [\"banana\", \"apple\", \"mango\", \"cherry\", \"grape\"]\n",
    "words.sort()\n",
    "print(\"Alphabetically sorted list:\", words)"
   ]
  },
  {
   "cell_type": "code",
   "execution_count": 9,
   "id": "7e8c834b-86ed-4420-a4a3-f6942c92b254",
   "metadata": {},
   "outputs": [
    {
     "name": "stdout",
     "output_type": "stream",
     "text": [
      "The word \"python\" appears 2 time(s) in the list.\n"
     ]
    }
   ],
   "source": [
    "#Write a program that counts how many times the word \"python\" appears in a list of words.\n",
    "words = [\"Python\", \"java\", \"python\", \"c++\", \"PYTHON\", \"ruby\", \"python\"]\n",
    "target = \"python\"\n",
    "count = 0\n",
    "for word in words:\n",
    "    if word == target:\n",
    "        count += 1\n",
    "print(f'The word \"{target}\" appears {count} time(s) in the list.')\n"
   ]
  },
  {
   "cell_type": "code",
   "execution_count": 10,
   "id": "3e15065e-5b4b-4221-8e68-bca9af8f873f",
   "metadata": {},
   "outputs": [
    {
     "name": "stdout",
     "output_type": "stream",
     "text": [
      "Original List: [1, 2, 3, 4, 5]\n",
      "Copied List: [100, 2, 3, 4, 5, 99]\n"
     ]
    }
   ],
   "source": [
    "#Make a copy of a list using the copy() method. Then modify the copied list and show that the original list is unchanged.\n",
    "original_list = [1, 2, 3, 4, 5]\n",
    "copied_list = original_list.copy()\n",
    "copied_list.append(99)\n",
    "copied_list[0] = 100\n",
    "print(\"Original List:\", original_list)\n",
    "print(\"Copied List:\", copied_list)\n"
   ]
  },
  {
   "cell_type": "code",
   "execution_count": 11,
   "id": "7a4063ef-f241-42ef-953e-f1ce86b3e233",
   "metadata": {},
   "outputs": [
    {
     "name": "stdout",
     "output_type": "stream",
     "text": [
      "Updated List: [10, 20, 30, 99, 40, 50, 60, 70]\n"
     ]
    }
   ],
   "source": [
    "#Take a list of 7 numbers. Insert a number at the middle index using the insert() method.\n",
    "numbers = [10, 20, 30, 40, 50, 60, 70]\n",
    "new_number = 99\n",
    "middle_index = len(numbers) // 2\n",
    "numbers.insert(middle_index, new_number)\n",
    "print(\"Updated List:\", numbers)\n"
   ]
  },
  {
   "cell_type": "code",
   "execution_count": 12,
   "id": "265dc231-2976-49f4-9d59-e6f53da724e1",
   "metadata": {},
   "outputs": [
    {
     "name": "stdout",
     "output_type": "stream",
     "text": [
      "Popped: 25\n",
      "Popped: 20\n",
      "Popped: 15\n",
      "Popped: 10\n",
      "Popped: 5\n",
      "List is now empty: []\n"
     ]
    }
   ],
   "source": [
    "#Create a list and use pop() to remove elements one by one until the list becomes empty. Print each popped element.\n",
    "items = [5, 10, 15, 20, 25]\n",
    "while len(items) > 0:\n",
    "    popped_item = items.pop() \n",
    "    print(\"Popped:\", popped_item)\n",
    "print(\"List is now empty:\", items)\n"
   ]
  },
  {
   "cell_type": "code",
   "execution_count": 14,
   "id": "b3be4fba-29fd-411e-80c1-edd1689fd446",
   "metadata": {},
   "outputs": [
    {
     "name": "stdout",
     "output_type": "stream",
     "text": [
      "Unique elements: [3, 9, 5, 7]\n"
     ]
    }
   ],
   "source": [
    "#Create a list of numbers and display only the unique elements using count() method logic (no set used).\n",
    "numbers = [4, 6, 2, 4, 3, 2, 9, 5, 6, 7]\n",
    "unique_numbers = []\n",
    "for num in numbers:\n",
    "    if numbers.count(num) == 1:\n",
    "        unique_numbers.append(num)\n",
    "print(\"Unique elements:\", unique_numbers)"
   ]
  },
  {
   "cell_type": "code",
   "execution_count": null,
   "id": "2926c7be-3ae2-4225-a9b4-c776edf280fa",
   "metadata": {},
   "outputs": [],
   "source": []
  }
 ],
 "metadata": {
  "kernelspec": {
   "display_name": "Python [conda env:base] *",
   "language": "python",
   "name": "conda-base-py"
  },
  "language_info": {
   "codemirror_mode": {
    "name": "ipython",
    "version": 3
   },
   "file_extension": ".py",
   "mimetype": "text/x-python",
   "name": "python",
   "nbconvert_exporter": "python",
   "pygments_lexer": "ipython3",
   "version": "3.13.5"
  }
 },
 "nbformat": 4,
 "nbformat_minor": 5
}
