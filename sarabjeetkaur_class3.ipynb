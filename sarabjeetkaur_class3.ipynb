{
 "cells": [
  {
   "cell_type": "code",
   "execution_count": 15,
   "id": "13207ec2-bbdd-46cb-b94c-ed2cf76c2935",
   "metadata": {},
   "outputs": [
    {
     "name": "stdin",
     "output_type": "stream",
     "text": [
      "enter the number: 19\n"
     ]
    },
    {
     "name": "stdout",
     "output_type": "stream",
     "text": [
      " 19 x 1 = 19\n",
      " 19 x 2 = 38\n",
      " 19 x 3 = 57\n",
      " 19 x 4 = 76\n",
      " 19 x 5 = 95\n",
      " 19 x 6 = 114\n",
      " 19 x 7 = 133\n",
      " 19 x 8 = 152\n",
      " 19 x 9 = 171\n",
      " 19 x 10 = 190\n"
     ]
    }
   ],
   "source": [
    "#while loop \n",
    "num=int(input(\"enter the number:\"))\n",
    "i=1\n",
    "while i<=10:\n",
    "    print(f\" {num} x {i} = {num * i}\")\n",
    "    i+=1"
   ]
  },
  {
   "cell_type": "code",
   "execution_count": 30,
   "id": "2b6f02f3-63b8-4631-8fba-ba31b2ccbba3",
   "metadata": {},
   "outputs": [
    {
     "name": "stdin",
     "output_type": "stream",
     "text": [
      "type 'q' to quit: t\n"
     ]
    },
    {
     "name": "stdout",
     "output_type": "stream",
     "text": [
      "You typed: t\n"
     ]
    },
    {
     "name": "stdin",
     "output_type": "stream",
     "text": [
      "type 'q' to quit: y\n"
     ]
    },
    {
     "name": "stdout",
     "output_type": "stream",
     "text": [
      "You typed: y\n"
     ]
    },
    {
     "name": "stdin",
     "output_type": "stream",
     "text": [
      "type 'q' to quit: u\n"
     ]
    },
    {
     "name": "stdout",
     "output_type": "stream",
     "text": [
      "You typed: u\n"
     ]
    },
    {
     "name": "stdin",
     "output_type": "stream",
     "text": [
      "type 'q' to quit: q\n"
     ]
    },
    {
     "name": "stdout",
     "output_type": "stream",
     "text": [
      "exited loop:\n"
     ]
    }
   ],
   "source": [
    "#break statement\n",
    "while True:\n",
    "    user_input=input(\"type 'q' to quit:\")\n",
    "    if user_input == 'q':\n",
    "        print(\"exited loop:\")\n",
    "        break\n",
    "    else:\n",
    "        print(\"You typed:\",user_input)"
   ]
  },
  {
   "cell_type": "code",
   "execution_count": 23,
   "id": "5153a934-5e40-42ac-a605-483b7c12e8ae",
   "metadata": {},
   "outputs": [
    {
     "name": "stdin",
     "output_type": "stream",
     "text": [
      "enter the password: 7654\n"
     ]
    },
    {
     "name": "stdout",
     "output_type": "stream",
     "text": [
      "wrong password:\n"
     ]
    },
    {
     "name": "stdin",
     "output_type": "stream",
     "text": [
      "enter the password: 76\n"
     ]
    },
    {
     "name": "stdout",
     "output_type": "stream",
     "text": [
      "wrong password:\n"
     ]
    },
    {
     "name": "stdin",
     "output_type": "stream",
     "text": [
      "enter the password: 1234\n"
     ]
    },
    {
     "name": "stdout",
     "output_type": "stream",
     "text": [
      "access granted:\n"
     ]
    }
   ],
   "source": [
    "# password break(minor project)\n",
    "password=\"1234\"\n",
    "for i in range(3):\n",
    "    user_input=input(\"enter the password:\")\n",
    "    if user_input==password:\n",
    "        print(\"access granted:\")\n",
    "        break\n",
    "    else:\n",
    "        print(\"wrong password:\")"
   ]
  },
  {
   "cell_type": "code",
   "execution_count": 25,
   "id": "4ec7be9b-dc63-4cbc-8827-8efe80f2421c",
   "metadata": {},
   "outputs": [
    {
     "name": "stdout",
     "output_type": "stream",
     "text": [
      "7\n",
      "14\n",
      "21\n",
      "28\n",
      "35\n",
      "42\n",
      "49\n",
      "56\n",
      "63\n",
      "70\n",
      "77\n",
      "84\n",
      "91\n",
      "98\n"
     ]
    }
   ],
   "source": [
    "#print multiples of 7 from 1 to 100\n",
    "i=1 \n",
    "while i <= 100:\n",
    "    if i%7==0:\n",
    "        print(i)\n",
    "    i += 1"
   ]
  },
  {
   "cell_type": "code",
   "execution_count": 29,
   "id": "e57e5246-d0fe-47ce-8e7b-8da65a231f4e",
   "metadata": {},
   "outputs": [
    {
     "name": "stdin",
     "output_type": "stream",
     "text": [
      "Enter the starting number:  1\n",
      "Enter the ending number:  100\n"
     ]
    },
    {
     "name": "stdout",
     "output_type": "stream",
     "text": [
      "7\n",
      "14\n",
      "21\n",
      "28\n",
      "35\n",
      "42\n",
      "49\n",
      "56\n",
      "63\n",
      "70\n",
      "77\n",
      "84\n",
      "91\n",
      "98\n"
     ]
    }
   ],
   "source": [
    "#print multiples of 7 from 1 to 100\n",
    "start = int(input(\"Enter the starting number: \"))\n",
    "end = int(input(\"Enter the ending number: \"))\n",
    "num = start\n",
    "while num <= end:\n",
    "    if num % 7 == 0:\n",
    "        print(num)\n",
    "    num += 1\n"
   ]
  },
  {
   "cell_type": "code",
   "execution_count": 32,
   "id": "14e9102b-fbb6-47cc-bbcd-3aded533e145",
   "metadata": {},
   "outputs": [
    {
     "name": "stdin",
     "output_type": "stream",
     "text": [
      "enter a number: 4\n"
     ]
    },
    {
     "name": "stdout",
     "output_type": "stream",
     "text": [
      "4 x 1 = 4\n",
      "4 x 2 = 8\n",
      "4 x 3 = 12\n",
      "4 x 4 = 16\n",
      "4 x 5 = 20\n",
      "4 x 6 = 24\n",
      "4 x 7 = 28\n",
      "4 x 8 = 32\n",
      "4 x 9 = 36\n",
      "4 x 10 = 40\n"
     ]
    }
   ],
   "source": [
    "#for loop \n",
    "num= int(input(\"enter a number:\"))\n",
    "for i in range(1,11):\n",
    "    print(f\"{num} x {i} = {num*i}\")"
   ]
  },
  {
   "cell_type": "code",
   "execution_count": 38,
   "id": "fa130685-f9d1-4a4a-be8a-ee3101f50362",
   "metadata": {},
   "outputs": [
    {
     "name": "stdout",
     "output_type": "stream",
     "text": [
      "0\n",
      "1\n",
      "2\n",
      "4\n",
      "5\n"
     ]
    }
   ],
   "source": [
    "#continue statement \n",
    "for i in range(0,6):\n",
    "    if i==3:\n",
    "        continue\n",
    "    print(i)"
   ]
  },
  {
   "cell_type": "code",
   "execution_count": 39,
   "id": "4e68aa00-9956-499d-a615-c473cc1659e0",
   "metadata": {},
   "outputs": [
    {
     "name": "stdout",
     "output_type": "stream",
     "text": [
      "0\n",
      "1\n",
      "2\n",
      "3\n",
      "4\n",
      "6\n",
      "7\n",
      "8\n"
     ]
    }
   ],
   "source": [
    "#continue and break\n",
    "for i in range(0,10):\n",
    "    if i==5:\n",
    "        continue\n",
    "    print(i)\n",
    "    if i==8:\n",
    "        break\n",
    "      "
   ]
  },
  {
   "cell_type": "code",
   "execution_count": 62,
   "id": "5c6c252b-0409-4b48-97b5-308963fa2306",
   "metadata": {},
   "outputs": [
    {
     "name": "stdout",
     "output_type": "stream",
     "text": [
      "p\n",
      "y\n",
      "t\n",
      "h\n",
      "n\n"
     ]
    }
   ],
   "source": [
    "#string, continue break\n",
    "i=\"python programming\"\n",
    "o='o'\n",
    "n='n'\n",
    "for char in i:\n",
    "    if char==o:\n",
    "         continue\n",
    "    print(char)\n",
    "    if char==n:\n",
    "         break"
   ]
  },
  {
   "cell_type": "code",
   "execution_count": 53,
   "id": "db3dea24-8bf5-442c-bfb3-ed341bc0bdf2",
   "metadata": {},
   "outputs": [
    {
     "name": "stdout",
     "output_type": "stream",
     "text": [
      "hello from function\n"
     ]
    }
   ],
   "source": [
    "#function\n",
    "def sarabjeet():\n",
    "     print(\"hello from function\")\n",
    "sarabjeet()"
   ]
  },
  {
   "cell_type": "code",
   "execution_count": 57,
   "id": "e4709fab-8f02-4b1b-9db3-7be990060ad8",
   "metadata": {},
   "outputs": [
    {
     "name": "stdout",
     "output_type": "stream",
     "text": [
      "8\n"
     ]
    }
   ],
   "source": [
    "#sum using def\n",
    "def sum(a,b):\n",
    "    print(a+b)\n",
    "sum(3,5)"
   ]
  },
  {
   "cell_type": "code",
   "execution_count": 67,
   "id": "15c30725-20e9-48c5-bd66-4f27f8a77f79",
   "metadata": {},
   "outputs": [
    {
     "name": "stdin",
     "output_type": "stream",
     "text": [
      "Enter a string:  kunavi\n"
     ]
    },
    {
     "name": "stdout",
     "output_type": "stream",
     "text": [
      "Reversed string: ivanuk\n"
     ]
    }
   ],
   "source": [
    "#reverse the string \n",
    "def reverse_string(s):\n",
    "    return s[::-1]\n",
    "\n",
    "input_string = input(\"Enter a string: \")\n",
    "print(\"Reversed string:\", reverse_string(input_string))\n"
   ]
  },
  {
   "cell_type": "code",
   "execution_count": 69,
   "id": "f838efd5-021a-407b-83a8-657ef02faa71",
   "metadata": {},
   "outputs": [
    {
     "name": "stdout",
     "output_type": "stream",
     "text": [
      "OK\n"
     ]
    }
   ],
   "source": [
    "if 5 < 10: \n",
    "    print('OK')\n"
   ]
  },
  {
   "cell_type": "code",
   "execution_count": 71,
   "id": "72e24c0f-d98b-44bd-bfe5-373ca580b652",
   "metadata": {},
   "outputs": [
    {
     "name": "stdin",
     "output_type": "stream",
     "text": [
      "enter the first number: 5\n",
      "enter the second number: 6\n"
     ]
    },
    {
     "name": "stdout",
     "output_type": "stream",
     "text": [
      "11\n"
     ]
    }
   ],
   "source": [
    " a=int(input(\"enter the first number:\"))\n",
    "b=int(input(\"enter the second number:\"))\n",
    "sum=a+b\n",
    "print(sum)"
   ]
  },
  {
   "cell_type": "code",
   "execution_count": 76,
   "id": "d89b1d0e-bb09-4795-9973-699b5a9a6902",
   "metadata": {},
   "outputs": [
    {
     "name": "stdin",
     "output_type": "stream",
     "text": [
      "enter a number: 6\n"
     ]
    },
    {
     "name": "stdout",
     "output_type": "stream",
     "text": [
      "even\n"
     ]
    }
   ],
   "source": [
    "a=int(input(\"enter a number:\"))\n",
    "if a % 2==0:\n",
    "       print(\"even\")\n",
    "else:\n",
    "      print(\"odd\")"
   ]
  },
  {
   "cell_type": "code",
   "execution_count": 78,
   "id": "fb720a88-9f42-4c96-8c47-aa90022e766d",
   "metadata": {},
   "outputs": [
    {
     "name": "stdin",
     "output_type": "stream",
     "text": [
      "Enter first number:  7\n",
      "Enter second number:  9\n"
     ]
    },
    {
     "name": "stdout",
     "output_type": "stream",
     "text": [
      "Largest number is: 9\n"
     ]
    }
   ],
   "source": [
    "a = int(input(\"Enter first number: \"))\n",
    "b = int(input(\"Enter second number: \"))\n",
    "if a > b:\n",
    "    print(\"Largest number is:\", a)\n",
    "elif b > a:\n",
    "    print(\"Largest number is:\", b)\n",
    "else:\n",
    "    print(\"Both numbers are equal\")"
   ]
  },
  {
   "cell_type": "code",
   "execution_count": 79,
   "id": "359b6386-45b4-424a-9776-39dfe9c49d7c",
   "metadata": {},
   "outputs": [
    {
     "name": "stdin",
     "output_type": "stream",
     "text": [
      "enter the first number: 6\n",
      "enter the second number: 8\n"
     ]
    },
    {
     "name": "stdout",
     "output_type": "stream",
     "text": [
      "the largest number is: 8\n"
     ]
    }
   ],
   "source": [
    "a=int(input(\"enter the first number:\"))\n",
    "b=int(input(\"enter the second number:\"))\n",
    "if a>b:\n",
    "       print(\"the largest number is:\",a)\n",
    "if b>a:\n",
    "       print(\"the largest number is:\",b)\n",
    "else:\n",
    "       print(\"both numbers are equal:\")\n"
   ]
  },
  {
   "cell_type": "code",
   "execution_count": 80,
   "id": "7ea5e85b-4af1-4c56-9d9f-1a630b76f890",
   "metadata": {},
   "outputs": [
    {
     "name": "stdin",
     "output_type": "stream",
     "text": [
      "Enter a number:  7\n"
     ]
    },
    {
     "name": "stdout",
     "output_type": "stream",
     "text": [
      "Positive\n"
     ]
    }
   ],
   "source": [
    "num = int(input(\"Enter a number: \"))\n",
    "\n",
    "if num > 0:\n",
    "    print(\"Positive\")\n",
    "elif num < 0:\n",
    "    print(\"Negative\")\n",
    "else:\n",
    "    print(\"Zero\")\n"
   ]
  },
  {
   "cell_type": "code",
   "execution_count": 82,
   "id": "8b283917-ca89-42c1-9f70-5f0f4bfffb82",
   "metadata": {},
   "outputs": [
    {
     "name": "stdin",
     "output_type": "stream",
     "text": [
      "enter a number: -8\n"
     ]
    },
    {
     "name": "stdout",
     "output_type": "stream",
     "text": [
      "negative\n"
     ]
    }
   ],
   "source": [
    "a=int(input(\"enter a number:\"))\n",
    "if a>0:\n",
    "      print(\"positive\")\n",
    "elif a<0:\n",
    "      print(\"negative\")\n",
    "else:\n",
    "      print(\"zero\")\n"
   ]
  },
  {
   "cell_type": "code",
   "execution_count": 83,
   "id": "3f849d86-ad07-44f8-afb5-acb1cffdb829",
   "metadata": {},
   "outputs": [
    {
     "name": "stdout",
     "output_type": "stream",
     "text": [
      "1\n",
      "2\n",
      "3\n",
      "4\n",
      "5\n",
      "6\n",
      "7\n",
      "8\n",
      "9\n",
      "10\n"
     ]
    }
   ],
   "source": [
    "i = 1\n",
    "while i <= 10:\n",
    "    print(i)\n",
    "    i += 1\n"
   ]
  },
  {
   "cell_type": "code",
   "execution_count": 87,
   "id": "3a2d7b58-eff3-4c4d-9b76-eb31201e13f3",
   "metadata": {},
   "outputs": [
    {
     "name": "stdin",
     "output_type": "stream",
     "text": [
      "Enter a number:  4\n"
     ]
    },
    {
     "name": "stdout",
     "output_type": "stream",
     "text": [
      "Factorial = 24\n"
     ]
    }
   ],
   "source": [
    "num = int(input(\"Enter a number: \"))\n",
    "factorial = 1\n",
    "\n",
    "if num < 0:\n",
    "    print(\"Factorial is not defined for negative numbers.\")\n",
    "elif num == 0:\n",
    "    print(\"Factorial = 1\")\n",
    "else:\n",
    "    for i in range(1, num + 1):\n",
    "        factorial *= i\n",
    "    print(\"Factorial is:=\", factorial)\n"
   ]
  },
  {
   "cell_type": "code",
   "execution_count": null,
   "id": "0390dade-46e4-463a-a4ad-5a84a66afe5b",
   "metadata": {},
   "outputs": [],
   "source": []
  }
 ],
 "metadata": {
  "kernelspec": {
   "display_name": "Python [conda env:base] *",
   "language": "python",
   "name": "conda-base-py"
  },
  "language_info": {
   "codemirror_mode": {
    "name": "ipython",
    "version": 3
   },
   "file_extension": ".py",
   "mimetype": "text/x-python",
   "name": "python",
   "nbconvert_exporter": "python",
   "pygments_lexer": "ipython3",
   "version": "3.13.5"
  }
 },
 "nbformat": 4,
 "nbformat_minor": 5
}
