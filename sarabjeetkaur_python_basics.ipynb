{
 "cells": [
  {
   "cell_type": "code",
   "execution_count": 3,
   "id": "49c2fbab-98a6-4854-a65b-e7c575299ede",
   "metadata": {},
   "outputs": [
    {
     "name": "stdin",
     "output_type": "stream",
     "text": [
      "enter first value: 32\n",
      "enter second value: 10\n"
     ]
    },
    {
     "name": "stdout",
     "output_type": "stream",
     "text": [
      "addition\n",
      "42\n",
      "substraction\n",
      "22\n",
      "multplication\n",
      "320\n",
      "division\n",
      "3.2\n",
      "modulus\n",
      "2\n",
      "float division\n",
      "3\n"
     ]
    }
   ],
   "source": [
    "#arithmetic operators\n",
    "a=int(input(\"enter first value:\"))\n",
    "b=int(input(\"enter second value:\"))\n",
    "print(\"addition\")\n",
    "print(a+b)\n",
    "print(\"substraction\")\n",
    "print(a-b)\n",
    "print(\"multplication\")\n",
    "print(a*b)\n",
    "print(\"division\")\n",
    "print(a/b)\n",
    "print(\"modulus\")\n",
    "print(a%b)\n",
    "print(\"float division\")\n",
    "print(a//b)"
   ]
  },
  {
   "cell_type": "code",
   "execution_count": 4,
   "id": "9975d65a-4c3f-421c-be2a-0f80330731e6",
   "metadata": {},
   "outputs": [
    {
     "name": "stdout",
     "output_type": "stream",
     "text": [
      "pre increment:\n",
      "15\n",
      "post increment:\n",
      "20\n"
     ]
    }
   ],
   "source": [
    "#preorder, postorder incrementation\n",
    "a=10\n",
    "print(\"pre increment:\")\n",
    "a+=5\n",
    "print(a)\n",
    "print(\"post increment:\")\n",
    "a=+20\n",
    "print(a)"
   ]
  },
  {
   "cell_type": "code",
   "execution_count": 5,
   "id": "3b71d0ed-6b20-46da-ba39-0974110b3cf7",
   "metadata": {},
   "outputs": [
    {
     "name": "stdout",
     "output_type": "stream",
     "text": [
      "a is greater:\n",
      "False\n",
      "b is greater:\n",
      "True\n",
      "a and b are equal:\n",
      "False\n",
      "b is less than equal to a:\n",
      "True\n",
      "b is less than equal to a:\n",
      "False\n"
     ]
    }
   ],
   "source": [
    "#comparision operators\n",
    "a=10\n",
    "b=20\n",
    "print(\"a is greater:\")\n",
    "print(a>b)\n",
    "print(\"b is greater:\")\n",
    "print(a<b)\n",
    "print(\"a and b are equal:\")\n",
    "print(a==b)\n",
    "print(\"b is less than equal to a:\")\n",
    "print(a<=b)\n",
    "print(\"b is less than equal to a:\")\n",
    "print(a>=b)"
   ]
  },
  {
   "cell_type": "code",
   "execution_count": 6,
   "id": "9ce038bc-c3d7-43e3-8a4b-4024e8b3c374",
   "metadata": {},
   "outputs": [
    {
     "name": "stdout",
     "output_type": "stream",
     "text": [
      "AND operator:\n",
      "True\n",
      "OR operator:\n",
      "True\n",
      "NOT operator:\n",
      "False\n"
     ]
    }
   ],
   "source": [
    "#logical operators\n",
    "a=10\n",
    "b=30\n",
    "print(\"AND operator:\")\n",
    "print(a<b and b>a)\n",
    "print(\"OR operator:\")\n",
    "print(a<b or a==b)\n",
    "print(\"NOT operator:\")\n",
    "print(not(a<b and b>a))"
   ]
  },
  {
   "cell_type": "code",
   "execution_count": 7,
   "id": "d92485e8-d580-43a8-ae71-2be04e1f3c9d",
   "metadata": {},
   "outputs": [
    {
     "name": "stdout",
     "output_type": "stream",
     "text": [
      "True\n",
      "False\n",
      "True\n",
      "False\n"
     ]
    }
   ],
   "source": [
    "#membership operator\n",
    "a=\"sarabjeet\"\n",
    "print(\"a\" in a)\n",
    "print(\"S\"in a)\n",
    "print(\"j\" in a)\n",
    "print(\"k\" in a)"
   ]
  },
  {
   "cell_type": "code",
   "execution_count": 8,
   "id": "fbf0e779-2e0f-47e1-a229-2ac32e4a3fb6",
   "metadata": {},
   "outputs": [
    {
     "name": "stdout",
     "output_type": "stream",
     "text": [
      "Bitwise AND operator:\n",
      "2\n",
      "Bitwise OR operator:\n",
      "58\n",
      "Bitwise NOT operator:\n",
      "-11\n"
     ]
    }
   ],
   "source": [
    "#bitwise operator\n",
    "a=10\n",
    "b=50\n",
    "print(\"Bitwise AND operator:\")\n",
    "print(a&b)\n",
    "print(\"Bitwise OR operator:\")\n",
    "print(a|b)\n",
    "print(\"Bitwise NOT operator:\")\n",
    "print(~a)"
   ]
  },
  {
   "cell_type": "code",
   "execution_count": 9,
   "id": "8d4860c3-ec3c-49f7-8519-f6082c41ec50",
   "metadata": {},
   "outputs": [
    {
     "name": "stdout",
     "output_type": "stream",
     "text": [
      "False\n",
      "True\n"
     ]
    }
   ],
   "source": [
    "#identify operator\n",
    "a=10\n",
    "b=20\n",
    "print(a is b)\n",
    "print(a is not b)"
   ]
  }
 ],
 "metadata": {
  "kernelspec": {
   "display_name": "Python [conda env:base] *",
   "language": "python",
   "name": "conda-base-py"
  },
  "language_info": {
   "codemirror_mode": {
    "name": "ipython",
    "version": 3
   },
   "file_extension": ".py",
   "mimetype": "text/x-python",
   "name": "python",
   "nbconvert_exporter": "python",
   "pygments_lexer": "ipython3",
   "version": "3.13.5"
  }
 },
 "nbformat": 4,
 "nbformat_minor": 5
}
