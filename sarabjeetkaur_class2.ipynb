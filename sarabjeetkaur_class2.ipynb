{
 "cells": [
  {
   "cell_type": "code",
   "execution_count": 1,
   "id": "07ed9669-d78e-4ed8-a391-1920d5b72c47",
   "metadata": {},
   "outputs": [
    {
     "name": "stdout",
     "output_type": "stream",
     "text": [
      "<class 'int'>\n"
     ]
    }
   ],
   "source": [
    "#class 2\n",
    "#type conversion\n",
    "x=10\n",
    "y=float(x)\n",
    "print(type(x))"
   ]
  },
  {
   "cell_type": "code",
   "execution_count": 2,
   "id": "41ec514e-269e-4dda-ad8e-4c9a98ed55c4",
   "metadata": {},
   "outputs": [
    {
     "name": "stdout",
     "output_type": "stream",
     "text": [
      "20.5\n"
     ]
    }
   ],
   "source": [
    "x=10\n",
    "y=10.5\n",
    "print(x+y)"
   ]
  },
  {
   "cell_type": "code",
   "execution_count": 13,
   "id": "17a3b9a9-4472-4285-9a38-a7e42c96a84c",
   "metadata": {},
   "outputs": [
    {
     "name": "stdin",
     "output_type": "stream",
     "text": [
      "Enter product name:  lip gloss\n",
      "Enter quantity:  4\n",
      "Enter price per item:  150\n"
     ]
    },
    {
     "name": "stdout",
     "output_type": "stream",
     "text": [
      "Product: lip gloss\n",
      "Quantity: 4\n",
      "Price per item: 150.0\n",
      "Total bill: 600.0\n"
     ]
    }
   ],
   "source": [
    "#bill calculator\n",
    "product = input(\"Enter product name: \")\n",
    "quantity = int(input(\"Enter quantity: \"))\n",
    "price = float(input(\"Enter price per item: \"))\n",
    "\n",
    "total = quantity * price\n",
    "\n",
    "print(\"Product:\", product)\n",
    "print(\"Quantity:\", quantity)\n",
    "print(\"Price per item:\", price)\n",
    "print(\"Total bill:\", total)\n"
   ]
  },
  {
   "cell_type": "code",
   "execution_count": 10,
   "id": "f6952c0a-2d6f-4785-a024-e84a69a1da3c",
   "metadata": {},
   "outputs": [
    {
     "name": "stdout",
     "output_type": "stream",
     "text": [
      "hello\n"
     ]
    }
   ],
   "source": [
    "#if statement\n",
    "x=10\n",
    "if x<15:\n",
    "      print(\"hello\")"
   ]
  },
  {
   "cell_type": "code",
   "execution_count": 16,
   "id": "3c08bfaf-d3ee-49e4-8ff4-87611a2b4185",
   "metadata": {},
   "outputs": [
    {
     "name": "stdout",
     "output_type": "stream",
     "text": [
      "hello\n"
     ]
    }
   ],
   "source": [
    "#else statement\n",
    "x=10\n",
    "if x<15:\n",
    "    print(\"hello\") \n",
    "else:\n",
    "    print(\"janvi\")"
   ]
  },
  {
   "cell_type": "code",
   "execution_count": 24,
   "id": "3ad2cf24-c7e0-4955-b173-87584d6309ba",
   "metadata": {},
   "outputs": [
    {
     "name": "stdin",
     "output_type": "stream",
     "text": [
      "enter the month: janvi\n"
     ]
    },
    {
     "name": "stdout",
     "output_type": "stream",
     "text": [
      "invalid month\n"
     ]
    }
   ],
   "source": [
    "month=input(\"enter the month:\")\n",
    "if month==\"december\" or month==\"january\" or month==\"february\":\n",
    "    print(\"winter\")\n",
    "elif month==\"march\" or month==\"april\" or month==\"may\":\n",
    "    print(\"spring\")\n",
    "elif month==\"june\" or month==\"july\" or month==\"august\":\n",
    "    print(\"summer\")\n",
    "elif month==\"september\" or month==\"october\" or month==\"november\":\n",
    "    print(\"autumn\")\n",
    "else:\n",
    "    print(\"invalid month\")"
   ]
  },
  {
   "cell_type": "code",
   "execution_count": 25,
   "id": "c310e274-c521-44fb-8db1-c68817b9b995",
   "metadata": {},
   "outputs": [
    {
     "name": "stdout",
     "output_type": "stream",
     "text": [
      "123\n",
      "<class 'int'>\n"
     ]
    }
   ],
   "source": [
    "a = \"123\"\n",
    "a_int = int(a)\n",
    "print(a_int)      \n",
    "print(type(a_int)) \n"
   ]
  },
  {
   "cell_type": "code",
   "execution_count": null,
   "id": "7622168f-c113-4dfe-aff9-129c82520a65",
   "metadata": {},
   "outputs": [],
   "source": [
    "current_year="
   ]
  }
 ],
 "metadata": {
  "kernelspec": {
   "display_name": "Python [conda env:base] *",
   "language": "python",
   "name": "conda-base-py"
  },
  "language_info": {
   "codemirror_mode": {
    "name": "ipython",
    "version": 3
   },
   "file_extension": ".py",
   "mimetype": "text/x-python",
   "name": "python",
   "nbconvert_exporter": "python",
   "pygments_lexer": "ipython3",
   "version": "3.13.5"
  }
 },
 "nbformat": 4,
 "nbformat_minor": 5
}
