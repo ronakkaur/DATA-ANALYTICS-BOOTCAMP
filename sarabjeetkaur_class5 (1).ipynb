{
 "cells": [
  {
   "cell_type": "code",
   "execution_count": 8,
   "id": "1db116b6-4061-4a64-821f-7d1363b5620d",
   "metadata": {},
   "outputs": [
    {
     "name": "stdout",
     "output_type": "stream",
     "text": [
      "[1, 2, 3, 4, 5, 6, 2]\n"
     ]
    }
   ],
   "source": [
    "#list (append)\n",
    "lst=[1,2,3,4,5,6]\n",
    "lst.append(2)\n",
    "print(lst)"
   ]
  },
  {
   "cell_type": "code",
   "execution_count": 5,
   "id": "aa287424-0728-40f0-a7bb-038f5b8fb9b3",
   "metadata": {},
   "outputs": [
    {
     "name": "stdout",
     "output_type": "stream",
     "text": [
      "[3, 5, 50, 'janvi', 6, 7, 8, 9]\n"
     ]
    }
   ],
   "source": [
    "#using index\n",
    "lst=[3,5,6,7,8,9]\n",
    "lst.insert(2,50)\n",
    "lst.insert(3,'janvi')\n",
    "print(lst)"
   ]
  },
  {
   "cell_type": "code",
   "execution_count": 4,
   "id": "bf804dbc-385b-4d09-9973-46baa13a1893",
   "metadata": {},
   "outputs": [
    {
     "name": "stdout",
     "output_type": "stream",
     "text": [
      "[6, 7, 8, 9, 3, 4, 1, 45]\n"
     ]
    }
   ],
   "source": [
    "#using extend\n",
    "lst=[6,7,8,9,3,4]\n",
    "lst.extend([1,45])\n",
    "print(lst)"
   ]
  },
  {
   "cell_type": "code",
   "execution_count": 6,
   "id": "895b99f4-e5c3-40a9-8e77-a34d7ef5275a",
   "metadata": {},
   "outputs": [
    {
     "name": "stdout",
     "output_type": "stream",
     "text": [
      "[3, 4, 5, 6, 7, 8]\n"
     ]
    }
   ],
   "source": [
    "#using pop\n",
    "lst=[3,4,5,6,7,8,9]\n",
    "lst.pop()\n",
    "print(lst)"
   ]
  },
  {
   "cell_type": "code",
   "execution_count": 7,
   "id": "d9166c4d-217b-481f-90fe-4e5fdfcdc43f",
   "metadata": {},
   "outputs": [
    {
     "name": "stdout",
     "output_type": "stream",
     "text": [
      "[2, 3, 5, 6, 7, 8, 4]\n"
     ]
    }
   ],
   "source": [
    "#using remove\n",
    "lst=[2,3,4,5,6,7,8,4]\n",
    "lst.remove(4)\n",
    "print(lst)"
   ]
  },
  {
   "cell_type": "code",
   "execution_count": 14,
   "id": "5068a200-6c81-47f4-97b4-737f610633cc",
   "metadata": {},
   "outputs": [
    {
     "name": "stdout",
     "output_type": "stream",
     "text": [
      "1\n"
     ]
    }
   ],
   "source": [
    "#using index\n",
    "lst=[3,5,6,7,3]\n",
    "hello=lst.index(5)\n",
    "print(hello)"
   ]
  },
  {
   "cell_type": "code",
   "execution_count": 13,
   "id": "6d71a2f5-96f3-4506-95dd-e8dafdd4106c",
   "metadata": {},
   "outputs": [
    {
     "name": "stdout",
     "output_type": "stream",
     "text": [
      "2\n"
     ]
    }
   ],
   "source": [
    "#count \n",
    "lst=[5,4,6,7,8,4,3,5]\n",
    "hello=lst.count(5)\n",
    "print(hello)"
   ]
  },
  {
   "cell_type": "code",
   "execution_count": 18,
   "id": "a0bd975a-e2b5-4e59-be23-b178119f2fea",
   "metadata": {},
   "outputs": [
    {
     "name": "stdin",
     "output_type": "stream",
     "text": [
      "Enter element 1:  6\n",
      "Enter element 2:  5\n",
      "Enter element 3:  4\n",
      "Enter element 4:  6\n",
      "Enter element 5:  9\n"
     ]
    },
    {
     "name": "stdout",
     "output_type": "stream",
     "text": [
      "Final list: [6, 5, 4, 6, 9]\n"
     ]
    }
   ],
   "source": [
    "#Create an empty list and take 5 numbers as input from the user. Append each number to the list and display the final list.\n",
    "lst = []\n",
    "for i in range(5):\n",
    "    num = int(input(f\"Enter element {i+1}: \"))\n",
    "    lst.append(num)\n",
    "print(\"Final list:\", lst)"
   ]
  },
  {
   "cell_type": "code",
   "execution_count": 34,
   "id": "256090d1-be50-45ae-a93f-89b4a631d279",
   "metadata": {},
   "outputs": [
    {
     "name": "stdout",
     "output_type": "stream",
     "text": [
      "Updated list1: [1, 2, 3, 4, 5, 6]\n"
     ]
    }
   ],
   "source": [
    "#Create two lists: list1 = [1, 2, 3] and list2 = [4, 5, 6]. Extend list1 using list2 and print the updated list.\n",
    "list1 = [1, 2, 3]\n",
    "list2 = [4, 5, 6]\n",
    "list1.extend(list2)\n",
    "print(\"Updated list1:\", list1)"
   ]
  },
  {
   "cell_type": "code",
   "execution_count": 33,
   "id": "ab108d99-3874-4de9-a13d-411232257b64",
   "metadata": {},
   "outputs": [
    {
     "name": "stdout",
     "output_type": "stream",
     "text": [
      "[10, 20, 25, 30, 40]\n"
     ]
    }
   ],
   "source": [
    "#Insert the value 25 at index 2 in the list: l = [10, 20, 30, 40].\n",
    "l = [10, 20, 30, 40]\n",
    "l.insert(2, 25)\n",
    "print(l)"
   ]
  },
  {
   "cell_type": "code",
   "execution_count": 32,
   "id": "f894fbf5-42d4-471c-a607-fde9c7466453",
   "metadata": {},
   "outputs": [
    {
     "name": "stdout",
     "output_type": "stream",
     "text": [
      "[10, 30, 20, 40]\n"
     ]
    }
   ],
   "source": [
    "#Remove the first occurrence of the value 20 from the list: l = [10, 20, 30, 20, 40].\n",
    "l = [10, 20, 30, 20, 40]\n",
    "l.remove(20)\n",
    "print(l)"
   ]
  },
  {
   "cell_type": "code",
   "execution_count": 22,
   "id": "698c4573-ca53-4a86-86da-e36863eb1b64",
   "metadata": {},
   "outputs": [
    {
     "name": "stdout",
     "output_type": "stream",
     "text": [
      "Popped item: 5\n",
      "Updated list: [1, 2, 3, 4]\n"
     ]
    }
   ],
   "source": [
    "l = [1, 2, 3, 4, 5]\n",
    "popped = l.pop()\n",
    "print(\"Popped item:\", popped)\n",
    "print(\"Updated list:\", l)"
   ]
  },
  {
   "cell_type": "code",
   "execution_count": 23,
   "id": "4ad4ca8b-8ce0-4a6e-92b4-47fb33298be7",
   "metadata": {},
   "outputs": [
    {
     "name": "stdout",
     "output_type": "stream",
     "text": [
      "Index of 15 is: 2\n"
     ]
    }
   ],
   "source": [
    "l = [5, 10, 15, 20, 25]\n",
    "hello = l.index(15)\n",
    "print(\"Index of 15 is:\", hello)"
   ]
  },
  {
   "cell_type": "code",
   "execution_count": 24,
   "id": "1eff2126-b6c9-49d2-9e1c-40f4ab51a0c0",
   "metadata": {},
   "outputs": [
    {
     "name": "stdout",
     "output_type": "stream",
     "text": [
      "Number of times 2 appears: 4\n"
     ]
    }
   ],
   "source": [
    "l = [1, 2, 2, 3, 2, 4, 2]\n",
    "hello = l.count(2)\n",
    "print(\"Number of times 2 appears:\", hello)"
   ]
  },
  {
   "cell_type": "code",
   "execution_count": 25,
   "id": "4b003218-4447-4486-b3ff-51e1b26a8bb4",
   "metadata": {},
   "outputs": [
    {
     "name": "stdout",
     "output_type": "stream",
     "text": [
      "Ascending: [3, 5, 7, 10]\n",
      "Descending: [10, 7, 5, 3]\n"
     ]
    }
   ],
   "source": [
    "#Sort the list [10, 5, 7, 3] in both ascending and descending order.\n",
    "l = [10, 5, 7, 3]\n",
    "l.sort()\n",
    "print(\"Ascending:\", l)\n",
    "l.sort(reverse=True)\n",
    "print(\"Descending:\", l)"
   ]
  },
  {
   "cell_type": "code",
   "execution_count": 30,
   "id": "c387aa17-e854-4994-82a4-9fd9e24ae9d8",
   "metadata": {},
   "outputs": [
    {
     "name": "stdout",
     "output_type": "stream",
     "text": [
      "Reversed list: [5, 4, 3, 2, 1]\n"
     ]
    }
   ],
   "source": [
    "#Reverse the list [1, 2, 3, 4, 5] using the reverse() method.\n",
    "l = [1, 2, 3, 4, 5]\n",
    "l.reverse()\n",
    "print(\"Reversed list:\", l)"
   ]
  },
  {
   "cell_type": "code",
   "execution_count": 31,
   "id": "cbba6b27-af90-4912-94f4-9765b4a998b9",
   "metadata": {},
   "outputs": [
    {
     "name": "stdout",
     "output_type": "stream",
     "text": [
      "Original list: [1, 2, 3]\n",
      "Copied list: [1, 2, 3, 4]\n"
     ]
    }
   ],
   "source": [
    "#Copy the list [1, 2, 3] to a new list, make changes in the copied list, and show that the original list remains unchanged.\n",
    "original = [1, 2, 3]\n",
    "copied = original.copy()\n",
    "copied.append(4)\n",
    "print(\"Original list:\", original)\n",
    "print(\"Copied list:\", copied)"
   ]
  },
  {
   "cell_type": "code",
   "execution_count": 28,
   "id": "102ddcfe-0bbe-4901-8901-6c6a434c31a5",
   "metadata": {},
   "outputs": [],
   "source": [
    "#list comprehesion"
   ]
  },
  {
   "cell_type": "code",
   "execution_count": 29,
   "id": "0d4d0e03-2a1d-417f-9287-b0d8614f88ce",
   "metadata": {},
   "outputs": [
    {
     "name": "stdout",
     "output_type": "stream",
     "text": [
      "(3, 1)\n",
      "<class 'tuple'>\n"
     ]
    }
   ],
   "source": [
    "#tuple\n",
    "xyz = divmod(10,3)\n",
    "print(xyz)\n",
    "print(type(xyz))"
   ]
  },
  {
   "cell_type": "code",
   "execution_count": 35,
   "id": "72614d25-ccdf-4b69-8d9c-1aa0076f4f1d",
   "metadata": {},
   "outputs": [],
   "source": [
    "#set"
   ]
  },
  {
   "cell_type": "code",
   "execution_count": 36,
   "id": "b798cf2a-1db2-498c-8f4d-e7c5f07f1856",
   "metadata": {},
   "outputs": [
    {
     "data": {
      "text/plain": [
       "2"
      ]
     },
     "execution_count": 36,
     "metadata": {},
     "output_type": "execute_result"
    }
   ],
   "source": [
    "#dictionary\n",
    "d={1:'one',2:'two'}\n",
    "len(d)"
   ]
  },
  {
   "cell_type": "code",
   "execution_count": null,
   "id": "7bb01639-58df-42d5-8be4-aabc7518b06f",
   "metadata": {},
   "outputs": [],
   "source": []
  }
 ],
 "metadata": {
  "kernelspec": {
   "display_name": "Python [conda env:base] *",
   "language": "python",
   "name": "conda-base-py"
  },
  "language_info": {
   "codemirror_mode": {
    "name": "ipython",
    "version": 3
   },
   "file_extension": ".py",
   "mimetype": "text/x-python",
   "name": "python",
   "nbconvert_exporter": "python",
   "pygments_lexer": "ipython3",
   "version": "3.13.5"
  }
 },
 "nbformat": 4,
 "nbformat_minor": 5
}
