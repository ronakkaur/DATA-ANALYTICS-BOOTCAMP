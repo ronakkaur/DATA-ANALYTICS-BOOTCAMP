{
 "cells": [
  {
   "cell_type": "code",
   "execution_count": 22,
   "id": "5174fb92-7449-4fde-bc45-b2c7900e5756",
   "metadata": {},
   "outputs": [
    {
     "name": "stdout",
     "output_type": "stream",
     "text": [
      "12\n"
     ]
    }
   ],
   "source": [
    "#functions\n",
    "def add():\n",
    "    a=5\n",
    "    b=7\n",
    "    print(a+b)\n",
    "add()"
   ]
  },
  {
   "cell_type": "code",
   "execution_count": 23,
   "id": "ce8e08a0-99cf-4c53-9355-3343285b19ff",
   "metadata": {},
   "outputs": [],
   "source": [
    "def add(x,y):\n",
    "    print(19.5,2)"
   ]
  },
  {
   "cell_type": "code",
   "execution_count": 12,
   "id": "3109daaf-a9a9-4541-adc4-a3a45d5deb9e",
   "metadata": {},
   "outputs": [
    {
     "name": "stdout",
     "output_type": "stream",
     "text": [
      "21.5\n"
     ]
    }
   ],
   "source": [
    "add(19.5,2)"
   ]
  },
  {
   "cell_type": "code",
   "execution_count": 19,
   "id": "c6b278c7-af44-42d3-915b-59b16a86aeac",
   "metadata": {},
   "outputs": [
    {
     "name": "stdin",
     "output_type": "stream",
     "text": [
      "Enter principal:  67\n",
      "Enter rate:  56\n",
      "Enter time:  2\n"
     ]
    },
    {
     "name": "stdout",
     "output_type": "stream",
     "text": [
      "Simple Interest: 75.04\n"
     ]
    }
   ],
   "source": [
    "#simple interest code\n",
    "def simple_interest(p, r, t):\n",
    "    si = (p * r * t) / 100\n",
    "    print(\"Simple Interest:\", si)\n",
    "p = float(input(\"Enter principal: \"))\n",
    "r = float(input(\"Enter rate: \"))\n",
    "t = float(input(\"Enter time: \"))\n",
    "simple_interest(p, r, t)\n"
   ]
  },
  {
   "cell_type": "code",
   "execution_count": 18,
   "id": "f91831fe-2594-4bef-8794-1d60702babbf",
   "metadata": {},
   "outputs": [
    {
     "name": "stdout",
     "output_type": "stream",
     "text": [
      "Sum of first 15 natural numbers is: 120\n"
     ]
    }
   ],
   "source": [
    "#find sum of first fifteen natural number\n",
    "def sum_first_15_natural_numbers():\n",
    "    total=0\n",
    "    for i in range(1, 16):\n",
    "        total+=i\n",
    "    return total\n",
    "result = sum_first_15_natural_numbers()\n",
    "print(\"Sum of first 15 natural numbers is:\",result)"
   ]
  },
  {
   "cell_type": "code",
   "execution_count": 29,
   "id": "cc67bb70-5eb2-423d-9c5e-78b6af7f4a8d",
   "metadata": {},
   "outputs": [
    {
     "name": "stdout",
     "output_type": "stream",
     "text": [
      "2 x 1 = 2\n",
      "2 x 2 = 4\n",
      "2 x 3 = 6\n",
      "2 x 4 = 8\n",
      "2 x 5 = 10\n",
      "2 x 6 = 12\n",
      "2 x 7 = 14\n",
      "2 x 8 = 16\n",
      "2 x 9 = 18\n",
      "2 x 10 = 20\n"
     ]
    }
   ],
   "source": [
    "#print table of 2 using funcitons\n",
    "def table():\n",
    "    for i in range(1,11):\n",
    "        print(2, \"x\", i, \"=\", 2 * i)\n",
    "table()"
   ]
  },
  {
   "cell_type": "code",
   "execution_count": 30,
   "id": "157144ca-ac25-49d9-b8a7-ac2a59d91735",
   "metadata": {},
   "outputs": [],
   "source": [
    "#create a function to finf the sun of all natural numbers.\n"
   ]
  },
  {
   "cell_type": "code",
   "execution_count": 31,
   "id": "98a9a8b3-e169-46e6-9b06-014279f48123",
   "metadata": {},
   "outputs": [
    {
     "name": "stdout",
     "output_type": "stream",
     "text": [
      "Sum of odd numbers: 625\n"
     ]
    }
   ],
   "source": [
    "#find the sum of odd numbers\n",
    "def sum_odd(a, b):\n",
    "    total = 0\n",
    "    for i in range(a, b):\n",
    "        if i % 2 != 0:\n",
    "            total += i\n",
    "    print(\"Sum of odd numbers:\", total)\n",
    "sum_odd(1, 51)\n"
   ]
  },
  {
   "cell_type": "code",
   "execution_count": 32,
   "id": "f99cb3c7-4bab-4896-bae0-d74ce071921b",
   "metadata": {},
   "outputs": [
    {
     "name": "stdout",
     "output_type": "stream",
     "text": [
      "5\n"
     ]
    }
   ],
   "source": [
    "#default parameter\n",
    "def sub(a,b=5):\n",
    "    print(a-b)\n",
    "sub(10)"
   ]
  },
  {
   "cell_type": "code",
   "execution_count": 35,
   "id": "116630e0-7783-4e9d-830d-daafd6d73b60",
   "metadata": {},
   "outputs": [
    {
     "name": "stdout",
     "output_type": "stream",
     "text": [
      "3\n"
     ]
    }
   ],
   "source": [
    "sub(6,3)"
   ]
  },
  {
   "cell_type": "code",
   "execution_count": 37,
   "id": "60081a3a-e53f-4b79-b779-e6c52a9581cb",
   "metadata": {},
   "outputs": [
    {
     "name": "stdout",
     "output_type": "stream",
     "text": [
      "10 20\n"
     ]
    }
   ],
   "source": [
    "#keyword argument\n",
    "def show(a,b):\n",
    "    print(a,b)\n",
    "show(a=10,b=20)\n"
   ]
  },
  {
   "cell_type": "code",
   "execution_count": 40,
   "id": "70bb6a99-e667-4609-8215-beaec517192c",
   "metadata": {},
   "outputs": [
    {
     "name": "stdout",
     "output_type": "stream",
     "text": [
      "30\n"
     ]
    }
   ],
   "source": [
    "#return function (print using print())\n",
    "def add(a,b):\n",
    "    c=a+b\n",
    "    print(c)\n",
    "add(10,20)"
   ]
  },
  {
   "cell_type": "code",
   "execution_count": 43,
   "id": "d954a1d2-68f0-494b-81ac-bab691f744d9",
   "metadata": {},
   "outputs": [
    {
     "data": {
      "text/plain": [
       "30"
      ]
     },
     "execution_count": 43,
     "metadata": {},
     "output_type": "execute_result"
    }
   ],
   "source": [
    "#return function( print using return())\n",
    "def add(a,b):\n",
    "    c=a+b\n",
    "    return c\n",
    "add(10,20)"
   ]
  },
  {
   "cell_type": "code",
   "execution_count": 44,
   "id": "80f0d5c1-4ad6-4801-8b28-e053d0891d84",
   "metadata": {},
   "outputs": [
    {
     "data": {
      "text/plain": [
       "15.9"
      ]
     },
     "execution_count": 44,
     "metadata": {},
     "output_type": "execute_result"
    }
   ],
   "source": [
    "#using lambda function\n",
    "add=lambda a,b:a+b\n",
    "add(12.9,3)"
   ]
  },
  {
   "cell_type": "code",
   "execution_count": 45,
   "id": "83f26cb2-1c27-4f15-aff2-183642a00482",
   "metadata": {},
   "outputs": [],
   "source": [
    "#try exception handling \n"
   ]
  },
  {
   "cell_type": "code",
   "execution_count": 47,
   "id": "65b3b375-ec79-4af6-b4a2-5c78ce2d9587",
   "metadata": {},
   "outputs": [
    {
     "name": "stdout",
     "output_type": "stream",
     "text": [
      "olleh\n"
     ]
    }
   ],
   "source": [
    "def reverse(s):\n",
    "    rev = \"\"\n",
    "    for i in s:\n",
    "        rev = i + rev\n",
    "    print(rev)\n",
    "reverse(\"hello\")\n"
   ]
  },
  {
   "cell_type": "code",
   "execution_count": 51,
   "id": "7cf227b1-2906-424e-bed9-6f0143caad40",
   "metadata": {},
   "outputs": [
    {
     "name": "stdin",
     "output_type": "stream",
     "text": [
      "Enter a number:  6\n"
     ]
    },
    {
     "name": "stdout",
     "output_type": "stream",
     "text": [
      "Square is: 36\n"
     ]
    }
   ],
   "source": [
    "def square(num):\n",
    "    return num * num\n",
    "n = int(input(\"Enter a number: \"))\n",
    "result = square(n)\n",
    "print(\"Square is:\", result)\n"
   ]
  },
  {
   "cell_type": "code",
   "execution_count": 49,
   "id": "2859b556-5958-4176-918a-7bf620fe5958",
   "metadata": {},
   "outputs": [
    {
     "name": "stdin",
     "output_type": "stream",
     "text": [
      "Enter first number:  5\n",
      "Enter second number:  10\n"
     ]
    },
    {
     "name": "stdout",
     "output_type": "stream",
     "text": [
      "Sum is: 15\n"
     ]
    }
   ],
   "source": [
    "def add(a, b):\n",
    "    return a + b\n",
    "num1 = int(input(\"Enter first number: \"))\n",
    "num2 = int(input(\"Enter second number: \"))\n",
    "result = add(num1, num2)\n",
    "print(\"Sum is:\", result)\n"
   ]
  },
  {
   "cell_type": "code",
   "execution_count": 50,
   "id": "e8c6c9c5-31e9-42be-8253-8114508860b3",
   "metadata": {},
   "outputs": [
    {
     "name": "stdin",
     "output_type": "stream",
     "text": [
      "Enter a number:  6\n"
     ]
    },
    {
     "name": "stdout",
     "output_type": "stream",
     "text": [
      "The number is even.\n"
     ]
    }
   ],
   "source": [
    "def even(num):\n",
    "    return num % 2 == 0\n",
    "n = int(input(\"Enter a number: \"))\n",
    "if even(n):\n",
    "    print(\"The number is even.\")\n",
    "else:\n",
    "    print(\"The number is odd.\")\n"
   ]
  },
  {
   "cell_type": "code",
   "execution_count": 52,
   "id": "26b248dc-4584-4a6d-b607-e87d6c3ca72a",
   "metadata": {},
   "outputs": [
    {
     "name": "stdin",
     "output_type": "stream",
     "text": [
      "Enter a number:  5\n"
     ]
    },
    {
     "name": "stdout",
     "output_type": "stream",
     "text": [
      "Factorial is: 120\n"
     ]
    }
   ],
   "source": [
    "def factorial(n):\n",
    "    if n == 0 or n == 1:\n",
    "        return 1\n",
    "    else:\n",
    "        return n * factorial(n - 1)\n",
    "num = int(input(\"Enter a number: \"))\n",
    "print(\"Factorial is:\", factorial(num))\n"
   ]
  },
  {
   "cell_type": "code",
   "execution_count": 56,
   "id": "1a68cb94-7d07-4791-bac8-750ae0c256fa",
   "metadata": {},
   "outputs": [
    {
     "name": "stdin",
     "output_type": "stream",
     "text": [
      "How many numbers?  4\n",
      "Enter number 1:  5\n",
      "Enter number 2:  8\n",
      "Enter number 3:  9\n",
      "Enter number 4:  2\n"
     ]
    },
    {
     "name": "stdout",
     "output_type": "stream",
     "text": [
      "Largest element is: 9\n"
     ]
    }
   ],
   "source": [
    "def find_largest(lst):\n",
    "    largest = lst[0]\n",
    "    for i in lst:\n",
    "        if i > largest:\n",
    "            largest = i\n",
    "    return largest\n",
    "    \n",
    "n = int(input(\"How many numbers? \"))\n",
    "numbers = [0] * n\n",
    "for i in range(n):\n",
    "    numbers[i] = int(input(f\"Enter number {i+1}: \"))\n",
    "print(\"Largest element is:\", find_largest(numbers))\n",
    "\n"
   ]
  },
  {
   "cell_type": "code",
   "execution_count": 57,
   "id": "f2c5e832-7f47-4bae-ac0a-4f78a5e67692",
   "metadata": {},
   "outputs": [
    {
     "name": "stdin",
     "output_type": "stream",
     "text": [
      "Enter a string:  htdjgg\n"
     ]
    },
    {
     "name": "stdout",
     "output_type": "stream",
     "text": [
      "Reversed string is: ggjdth\n"
     ]
    }
   ],
   "source": [
    "def reverse(s):\n",
    "    return s[::-1]\n",
    "text = input(\"Enter a string: \")\n",
    "print(\"Reversed string is:\", reverse(text))\n"
   ]
  },
  {
   "cell_type": "code",
   "execution_count": 58,
   "id": "2a33183c-05e2-4d8f-ae4d-c2eb22d31f53",
   "metadata": {},
   "outputs": [
    {
     "name": "stdin",
     "output_type": "stream",
     "text": [
      "Enter how many terms:  7\n"
     ]
    },
    {
     "name": "stdout",
     "output_type": "stream",
     "text": [
      "Fibonacci series:\n",
      "0 1 1 2 3 5 8 "
     ]
    }
   ],
   "source": [
    "def fibonacci(n):\n",
    "    a, b = 0, 1\n",
    "    print(\"Fibonacci series:\")\n",
    "    for _ in range(n):\n",
    "        print(a, end=\" \")\n",
    "        a, b = b, a + b\n",
    "num = int(input(\"Enter how many terms: \"))\n",
    "fibonacci(num)\n"
   ]
  },
  {
   "cell_type": "code",
   "execution_count": 60,
   "id": "199b6638-9eaf-4eca-b263-42434b242a09",
   "metadata": {},
   "outputs": [
    {
     "name": "stdin",
     "output_type": "stream",
     "text": [
      "Enter a string:  helloo\n"
     ]
    },
    {
     "name": "stdout",
     "output_type": "stream",
     "text": [
      "Number of vowels: 3\n"
     ]
    }
   ],
   "source": [
    "def vowels(text):\n",
    "    vowels = \"aeiouAEIOU\"\n",
    "    count = 0\n",
    "    for char in text:\n",
    "        if char in vowels:\n",
    "            count += 1\n",
    "    print(\"Number of vowels:\", count)\n",
    "user_input = input(\"Enter a string: \")\n",
    "vowels(user_input)\n"
   ]
  },
  {
   "cell_type": "code",
   "execution_count": 61,
   "id": "b6d59413-367e-482b-a426-2f975c2e0974",
   "metadata": {},
   "outputs": [
    {
     "name": "stdin",
     "output_type": "stream",
     "text": [
      "Enter a string:  hello\n"
     ]
    },
    {
     "name": "stdout",
     "output_type": "stream",
     "text": [
      "Not a palindrome.\n"
     ]
    }
   ],
   "source": [
    "def palindrome(s):\n",
    "    if s == s[::-1]:\n",
    "        print(\"It's a palindrome!\")\n",
    "    else:\n",
    "        print(\"Not a palindrome.\")\n",
    "text = input(\"Enter a string: \")\n",
    "palindrome(text)\n"
   ]
  },
  {
   "cell_type": "code",
   "execution_count": 62,
   "id": "4d0a2e56-b9a3-467f-94bd-8fa14f35667a",
   "metadata": {},
   "outputs": [
    {
     "name": "stdout",
     "output_type": "stream",
     "text": [
      "Sum is: 30\n"
     ]
    }
   ],
   "source": [
    "def total_sum(*args):\n",
    "    result = 0\n",
    "    for num in args:\n",
    "        result += num\n",
    "    return result\n",
    "print(\"Sum is:\", total_sum(5, 10, 15))\n"
   ]
  },
  {
   "cell_type": "code",
   "execution_count": null,
   "id": "22f61440-264d-45a1-8596-396488d61f88",
   "metadata": {},
   "outputs": [],
   "source": []
  }
 ],
 "metadata": {
  "kernelspec": {
   "display_name": "Python [conda env:base] *",
   "language": "python",
   "name": "conda-base-py"
  },
  "language_info": {
   "codemirror_mode": {
    "name": "ipython",
    "version": 3
   },
   "file_extension": ".py",
   "mimetype": "text/x-python",
   "name": "python",
   "nbconvert_exporter": "python",
   "pygments_lexer": "ipython3",
   "version": "3.13.5"
  }
 },
 "nbformat": 4,
 "nbformat_minor": 5
}
