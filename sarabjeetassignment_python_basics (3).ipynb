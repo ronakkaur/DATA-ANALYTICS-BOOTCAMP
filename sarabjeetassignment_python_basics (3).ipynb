{
 "cells": [
  {
   "cell_type": "code",
   "execution_count": 4,
   "id": "5db4b394-4f6f-4c57-a336-4b22c41fb1c9",
   "metadata": {},
   "outputs": [
    {
     "name": "stdout",
     "output_type": "stream",
     "text": [
      "num1 is: 15\n",
      "num2 is: 25\n",
      "sum is: 40\n"
     ]
    }
   ],
   "source": [
    "#Variable assignment and sum \n",
    "num1=15\n",
    "print(\"num1 is:\",num1)\n",
    "num2=25\n",
    "print(\"num2 is:\",num2)\n",
    "print(\"sum is:\",num1+num2)"
   ]
  },
  {
   "cell_type": "code",
   "execution_count": 1,
   "id": "51e5f05c-a8a2-4406-a4b6-098a333045a4",
   "metadata": {},
   "outputs": [
    {
     "name": "stdout",
     "output_type": "stream",
     "text": [
      "32\n",
      "84\n"
     ]
    }
   ],
   "source": [
    "#Difference & Product\n",
    "a= 50\n",
    "b = 18\n",
    "c = 12\n",
    "d = 7\n",
    "print(a-b)\n",
    "print(c*d)"
   ]
  },
  {
   "cell_type": "code",
   "execution_count": 2,
   "id": "c3dba780-bffa-450f-ae69-f08c50314a37",
   "metadata": {},
   "outputs": [
    {
     "name": "stdout",
     "output_type": "stream",
     "text": [
      "33.333333333333336\n",
      "1\n"
     ]
    }
   ],
   "source": [
    "#division and modulus\n",
    "num1 = 100\n",
    "num2 = 3\n",
    "print(100/3)\n",
    "print(100%3)"
   ]
  },
  {
   "cell_type": "code",
   "execution_count": 3,
   "id": "8cfe381d-208d-464d-9dcf-61ccab3ed57d",
   "metadata": {},
   "outputs": [
    {
     "name": "stdout",
     "output_type": "stream",
     "text": [
      "True\n",
      "True\n",
      "True\n"
     ]
    }
   ],
   "source": [
    "#Boolean Expressions\n",
    "a = (5+3)>(10-4)\n",
    "b = (20/2) == 10\n",
    "c = (7<5) or (9!=8)\n",
    "print(a)\n",
    "print(b)\n",
    "print(c)"
   ]
  },
  {
   "cell_type": "code",
   "execution_count": 4,
   "id": "6742d5be-73ed-45d9-b1e2-4906ab272d2d",
   "metadata": {},
   "outputs": [
    {
     "name": "stdout",
     "output_type": "stream",
     "text": [
      "45\n",
      "33.0\n"
     ]
    }
   ],
   "source": [
    "#Type Conversion\n",
    "num1 = 45.8\n",
    "num2 = 33\n",
    "print(int(num1))\n",
    "print(float(num2))"
   ]
  },
  {
   "cell_type": "code",
   "execution_count": 5,
   "id": "f1ed2ca9-2dd2-41bb-938b-1dca4be0aa51",
   "metadata": {},
   "outputs": [
    {
     "name": "stdin",
     "output_type": "stream",
     "text": [
      "Enter first number: 5\n",
      "Enter Second number: 8\n",
      "Enter thrid number: 13\n"
     ]
    },
    {
     "name": "stdout",
     "output_type": "stream",
     "text": [
      "17.333333333333332\n"
     ]
    }
   ],
   "source": [
    "#Average of Three Numbers\n",
    "a = int(input(\"Enter first number:\"))\n",
    "b = int(input(\"Enter Second number:\"))\n",
    "c = int(input(\"Enter thrid number:\"))\n",
    "print(((a+b+c/3)))"
   ]
  },
  {
   "cell_type": "code",
   "execution_count": 6,
   "id": "132d2642-f10b-42fe-bb8c-9e1a1d76f8b2",
   "metadata": {},
   "outputs": [
    {
     "name": "stdout",
     "output_type": "stream",
     "text": [
      "125\n"
     ]
    }
   ],
   "source": [
    "#Power Calculation\n",
    "result = 5 ** 3\n",
    "print(result)"
   ]
  },
  {
   "cell_type": "code",
   "execution_count": 7,
   "id": "dd5e0d95-ff69-483c-b3f7-2eee1a7cf6c3",
   "metadata": {},
   "outputs": [
    {
     "name": "stdout",
     "output_type": "stream",
     "text": [
      "37.0\n"
     ]
    }
   ],
   "source": [
    "#Temperature Conversion \n",
    "fahrenheit = 98.6\n",
    "celsius = (fahrenheit - 32) * (5 / 9)\n",
    "print(celsius)"
   ]
  },
  {
   "cell_type": "code",
   "execution_count": 8,
   "id": "788b4b53-6eda-49c0-91b5-87e1f0ef8fc6",
   "metadata": {},
   "outputs": [
    {
     "name": "stdout",
     "output_type": "stream",
     "text": [
      "100.0\n"
     ]
    }
   ],
   "source": [
    "#Simple interest Calculation\n",
    "p = 1000\n",
    "r = 5\n",
    "t = 2\n",
    "si = (p*r*t)/100\n",
    "print(si)"
   ]
  },
  {
   "cell_type": "code",
   "execution_count": 9,
   "id": "91c59f18-cafe-4760-ad99-388785586a28",
   "metadata": {},
   "outputs": [
    {
     "name": "stdout",
     "output_type": "stream",
     "text": [
      "60.0\n"
     ]
    }
   ],
   "source": [
    "#Mixed Arithmetic\n",
    "exp = (15+5)*(20-8)/4\n",
    "print(exp)"
   ]
  }
 ],
 "metadata": {
  "kernelspec": {
   "display_name": "Python [conda env:base] *",
   "language": "python",
   "name": "conda-base-py"
  },
  "language_info": {
   "codemirror_mode": {
    "name": "ipython",
    "version": 3
   },
   "file_extension": ".py",
   "mimetype": "text/x-python",
   "name": "python",
   "nbconvert_exporter": "python",
   "pygments_lexer": "ipython3",
   "version": "3.13.5"
  }
 },
 "nbformat": 4,
 "nbformat_minor": 5
}
